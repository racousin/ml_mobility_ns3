{
 "cells": [
  {
   "cell_type": "markdown",
   "metadata": {},
   "source": [
    "# Data Exploration - NetMob25 Dataset\n",
    "\n",
    "This notebook demonstrates basic data loading and visualization for the NetMob25 dataset."
   ]
  },
  {
   "cell_type": "code",
   "execution_count": null,
   "metadata": {},
   "outputs": [],
   "source": [
    "import sys\n",
    "sys.path.append('..')\n",
    "\n",
    "from pathlib import Path\n",
    "import pandas as pd\n",
    "import numpy as np\n",
    "import matplotlib.pyplot as plt\n",
    "import seaborn as sns\n",
    "\n",
    "from ml_mobility_ns3 import NetMob25Loader\n",
    "from ml_mobility_ns3.utils.visualization import (\n",
    "    plot_trajectory, plot_multiple_trajectories, create_folium_map\n",
    ")\n",
    "\n",
    "# Set style\n",
    "sns.set_style('darkgrid')\n",
    "sns.set_palette('husl')"
   ]
  },
  {
   "cell_type": "markdown",
   "metadata": {},
   "source": [
    "## Load Data"
   ]
  },
  {
   "cell_type": "code",
   "execution_count": null,
   "metadata": {},
   "outputs": [],
   "source": [
    "# Initialize data loader\n",
    "data_dir = Path(\"../data/netmob25\")  # Update this path\n",
    "loader = NetMob25Loader(data_dir)\n",
    "\n",
    "# Load datasets\n",
    "individuals = loader.load_individuals()\n",
    "trips = loader.load_trips()\n",
    "\n",
    "print(f\"Loaded {len(individuals)} individuals\")\n",
    "print(f\"Loaded {len(trips)} trips\")"
   ]
  },
  {
   "cell_type": "markdown",
   "metadata": {},
   "source": [
    "## Basic Statistics"
   ]
  },
  {
   "cell_type": "code",
   "execution_count": null,
   "metadata": {},
   "outputs": [],
   "source": [
    "# Trips per individual\n",
    "trips_per_person = trips.groupby('ID').size()\n",
    "print(f\"Average trips per person: {trips_per_person.mean():.2f}\")\n",
    "print(f\"Median trips per person: {trips_per_person.median():.0f}\")\n",
    "\n",
    "# Trip duration distribution\n",
    "trip_durations = trips['Duration'].dropna()\n",
    "print(f\"\\nAverage trip duration: {trip_durations.mean():.2f} minutes\")\n",
    "print(f\"Median trip duration: {trip_durations.median():.2f} minutes\")"
   ]
  },
  {
   "cell_type": "code",
   "execution_count": null,
   "metadata": {},
   "outputs": [],
   "source": [
    "# Plot trip duration distribution\n",
    "fig, (ax1, ax2) = plt.subplots(1, 2, figsize=(12, 4))\n",
    "\n",
    "# Histogram\n",
    "ax1.hist(trip_durations[trip_durations < 120], bins=50, alpha=0.7)\n",
    "ax1.set_xlabel('Duration (minutes)')\n",
    "ax1.set_ylabel('Count')\n",
    "ax1.set_title('Trip Duration Distribution (< 2 hours)')\n",
    "\n",
    "# Transport modes\n",
    "mode_counts = trips['Main_Mode'].value_counts().head(10)\n",
    "ax2.bar(range(len(mode_counts)), mode_counts.values)\n",
    "ax2.set_xticks(range(len(mode_counts)))\n",
    "ax2.set_xticklabels(mode_counts.index, rotation=45, ha='right')\n",
    "ax2.set_ylabel('Count')\n",
    "ax2.set_title('Top 10 Transport Modes')\n",
    "\n",
    "plt.tight_layout()\n",
    "plt.show()"
   ]
  },
  {
   "cell_type": "markdown",
   "metadata": {},
   "source": [
    "## Sample Trajectories"
   ]
  },
  {
   "cell_type": "code",
   "execution_count": null,
   "metadata": {},
   "outputs": [],
   "source": [
    "# Sample some trajectories\n",
    "sample_trajectories = loader.sample_trajectories(n_samples=5, min_points=20)\n",
    "print(f\"Sampled {len(sample_trajectories)} trajectories\")\n",
    "\n",
    "# Plot individual trajectories\n",
    "fig, axes = plt.subplots(1, min(3, len(sample_trajectories)), figsize=(15, 5))\n",
    "if len(sample_trajectories) == 1:\n",
    "    axes = [axes]\n",
    "\n",
    "for i, (ax, traj) in enumerate(zip(axes, sample_trajectories[:3])):\n",
    "    plot_trajectory(traj, ax=ax, title=f'Trajectory {i+1}')\n",
    "    \n",
    "plt.tight_layout()\n",
    "plt.show()"
   ]
  },
  {
   "cell_type": "code",
   "execution_count": null,
   "metadata": {},
   "outputs": [],
   "source": [
    "# Plot multiple trajectories together\n",
    "if len(sample_trajectories) > 1:\n",
    "    fig = plot_multiple_trajectories(\n",
    "        sample_trajectories[:10],\n",
    "        title=\"Sample Trajectories from NetMob25\"\n",
    "    )\n",
    "    plt.show()"
   ]
  },
  {
   "cell_type": "markdown",
   "metadata": {},
   "source": [
    "## Interactive Map"
   ]
  },
  {
   "cell_type": "code",
   "execution_count": null,
   "metadata": {},
   "outputs": [],
   "source": [
    "# Create interactive map\n",
    "if len(sample_trajectories) > 0:\n",
    "    m = create_folium_map(sample_trajectories[:5])\n",
    "    m  # Display the map"
   ]
  },
  {
   "cell_type": "markdown",
   "metadata": {},
   "source": [
    "## Trajectory Statistics"
   ]
  },
  {
   "cell_type": "code",
   "execution_count": null,
   "metadata": {},
   "outputs": [],
   "source": [
    "# Analyze trajectory characteristics\n",
    "traj_stats = []\n",
    "\n",
    "for traj in sample_trajectories[:20]:\n",
    "    if len(traj) > 0:\n",
    "        # Calculate distance\n",
    "        lat_diff = traj['LATITUDE'].max() - traj['LATITUDE'].min()\n",
    "        lon_diff = traj['LONGITUDE'].max() - traj['LONGITUDE'].min()\n",
    "        \n",
    "        # Time span\n",
    "        time_span = (traj['UTC_TIMESTAMP'].max() - traj['UTC_TIMESTAMP'].min()).total_seconds() / 60\n",
    "        \n",
    "        # Average speed\n",
    "        avg_speed = traj['SPEED'].mean() if 'SPEED' in traj.columns else 0\n",
    "        \n",
    "        traj_stats.append({\n",
    "            'n_points': len(traj),\n",
    "            'lat_range': lat_diff,\n",
    "            'lon_range': lon_diff,\n",
    "            'duration_min': time_span,\n",
    "            'avg_speed': avg_speed\n",
    "        })\n",
    "\n",
    "stats_df = pd.DataFrame(traj_stats)\n",
    "print(\"Trajectory Statistics:\")\n",
    "print(stats_df.describe())"
   ]
  }
 ],
 "metadata": {
  "kernelspec": {
   "display_name": "Python 3",
   "language": "python",
   "name": "python3"
  },
  "language_info": {
   "codemirror_mode": {
    "name": "ipython",
    "version": 3
   },
   "file_extension": ".py",
   "mimetype": "text/x-python",
   "name": "python",
   "nbconvert_exporter": "python",
   "pygments_lexer": "ipython3",
   "version": "3.9.0"
  }
 },
 "nbformat": 4,
 "nbformat_minor": 4
}